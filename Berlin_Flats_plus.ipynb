{
  "nbformat": 4,
  "nbformat_minor": 0,
  "metadata": {
    "colab": {
      "name": "trash",
      "provenance": [],
      "collapsed_sections": []
    },
    "kernelspec": {
      "display_name": "Python 3",
      "name": "python3"
    },
    "language_info": {
      "name": "python"
    }
  },
  "cells": [
    {
      "cell_type": "code",
      "metadata": {
        "id": "JjHYB3gdrVBN"
      },
      "source": [
        "import numpy as np\n",
        "import pandas as pd\n",
        "import seaborn as sns\n",
        "import matplotlib.pyplot as plt\n",
        "from sklearn.model_selection import train_test_split\n",
        "from sklearn.linear_model import LinearRegression"
      ],
      "execution_count": 309,
      "outputs": []
    },
    {
      "cell_type": "code",
      "metadata": {
        "id": "Qyn3EsI4rW3h"
      },
      "source": [
        "df=pd.read_csv('https://raw.githubusercontent.com/MSadriAghdam/Berlin_Flats/main/berlin_flats.csv')"
      ],
      "execution_count": 310,
      "outputs": []
    },
    {
      "cell_type": "code",
      "metadata": {
        "colab": {
          "base_uri": "https://localhost:8080/",
          "height": 204
        },
        "id": "uWHys4v8rafH",
        "outputId": "f45371db-29a0-470a-a6f5-574d319355c6"
      },
      "source": [
        "df.sample(5)"
      ],
      "execution_count": 311,
      "outputs": [
        {
          "output_type": "execute_result",
          "data": {
            "text/html": [
              "<div>\n",
              "<style scoped>\n",
              "    .dataframe tbody tr th:only-of-type {\n",
              "        vertical-align: middle;\n",
              "    }\n",
              "\n",
              "    .dataframe tbody tr th {\n",
              "        vertical-align: top;\n",
              "    }\n",
              "\n",
              "    .dataframe thead th {\n",
              "        text-align: right;\n",
              "    }\n",
              "</style>\n",
              "<table border=\"1\" class=\"dataframe\">\n",
              "  <thead>\n",
              "    <tr style=\"text-align: right;\">\n",
              "      <th></th>\n",
              "      <th>Unnamed: 0</th>\n",
              "      <th>Region</th>\n",
              "      <th>Condition</th>\n",
              "      <th>Rooms</th>\n",
              "      <th>Rent</th>\n",
              "      <th>Year_Construction</th>\n",
              "      <th>Space</th>\n",
              "    </tr>\n",
              "  </thead>\n",
              "  <tbody>\n",
              "    <tr>\n",
              "      <th>610</th>\n",
              "      <td>610</td>\n",
              "      <td>Tiergarten</td>\n",
              "      <td>first_time_use</td>\n",
              "      <td>3.0</td>\n",
              "      <td>2067.77</td>\n",
              "      <td>2019</td>\n",
              "      <td>98.70</td>\n",
              "    </tr>\n",
              "    <tr>\n",
              "      <th>742</th>\n",
              "      <td>742</td>\n",
              "      <td>Prenzlauer</td>\n",
              "      <td>mint_condition</td>\n",
              "      <td>1.0</td>\n",
              "      <td>1283.71</td>\n",
              "      <td>2016</td>\n",
              "      <td>54.59</td>\n",
              "    </tr>\n",
              "    <tr>\n",
              "      <th>660</th>\n",
              "      <td>660</td>\n",
              "      <td>Tiergarten</td>\n",
              "      <td>first_time_use</td>\n",
              "      <td>4.0</td>\n",
              "      <td>2130.96</td>\n",
              "      <td>2019</td>\n",
              "      <td>92.05</td>\n",
              "    </tr>\n",
              "    <tr>\n",
              "      <th>109</th>\n",
              "      <td>109</td>\n",
              "      <td>Tiergarten</td>\n",
              "      <td>mint_condition</td>\n",
              "      <td>3.0</td>\n",
              "      <td>2227.00</td>\n",
              "      <td>1998</td>\n",
              "      <td>105.97</td>\n",
              "    </tr>\n",
              "    <tr>\n",
              "      <th>640</th>\n",
              "      <td>640</td>\n",
              "      <td>Mitte</td>\n",
              "      <td>no_information</td>\n",
              "      <td>3.0</td>\n",
              "      <td>1814.85</td>\n",
              "      <td>2016</td>\n",
              "      <td>98.70</td>\n",
              "    </tr>\n",
              "  </tbody>\n",
              "</table>\n",
              "</div>"
            ],
            "text/plain": [
              "     Unnamed: 0      Region       Condition  ...     Rent  Year_Construction   Space\n",
              "610         610  Tiergarten  first_time_use  ...  2067.77               2019   98.70\n",
              "742         742  Prenzlauer  mint_condition  ...  1283.71               2016   54.59\n",
              "660         660  Tiergarten  first_time_use  ...  2130.96               2019   92.05\n",
              "109         109  Tiergarten  mint_condition  ...  2227.00               1998  105.97\n",
              "640         640       Mitte  no_information  ...  1814.85               2016   98.70\n",
              "\n",
              "[5 rows x 7 columns]"
            ]
          },
          "metadata": {},
          "execution_count": 311
        }
      ]
    },
    {
      "cell_type": "code",
      "metadata": {
        "colab": {
          "base_uri": "https://localhost:8080/",
          "height": 297
        },
        "id": "NGwhDtikrbsi",
        "outputId": "b690a604-ed53-4c4d-9af4-a7eb502ba85c"
      },
      "source": [
        "df.describe()"
      ],
      "execution_count": 312,
      "outputs": [
        {
          "output_type": "execute_result",
          "data": {
            "text/html": [
              "<div>\n",
              "<style scoped>\n",
              "    .dataframe tbody tr th:only-of-type {\n",
              "        vertical-align: middle;\n",
              "    }\n",
              "\n",
              "    .dataframe tbody tr th {\n",
              "        vertical-align: top;\n",
              "    }\n",
              "\n",
              "    .dataframe thead th {\n",
              "        text-align: right;\n",
              "    }\n",
              "</style>\n",
              "<table border=\"1\" class=\"dataframe\">\n",
              "  <thead>\n",
              "    <tr style=\"text-align: right;\">\n",
              "      <th></th>\n",
              "      <th>Unnamed: 0</th>\n",
              "      <th>Rooms</th>\n",
              "      <th>Rent</th>\n",
              "      <th>Year_Construction</th>\n",
              "      <th>Space</th>\n",
              "    </tr>\n",
              "  </thead>\n",
              "  <tbody>\n",
              "    <tr>\n",
              "      <th>count</th>\n",
              "      <td>764.000000</td>\n",
              "      <td>764.000000</td>\n",
              "      <td>764.000000</td>\n",
              "      <td>764.000000</td>\n",
              "      <td>764.000000</td>\n",
              "    </tr>\n",
              "    <tr>\n",
              "      <th>mean</th>\n",
              "      <td>381.500000</td>\n",
              "      <td>2.549738</td>\n",
              "      <td>1768.560942</td>\n",
              "      <td>1983.695026</td>\n",
              "      <td>84.656270</td>\n",
              "    </tr>\n",
              "    <tr>\n",
              "      <th>std</th>\n",
              "      <td>220.692093</td>\n",
              "      <td>1.010826</td>\n",
              "      <td>1118.263961</td>\n",
              "      <td>48.006060</td>\n",
              "      <td>44.195338</td>\n",
              "    </tr>\n",
              "    <tr>\n",
              "      <th>min</th>\n",
              "      <td>0.000000</td>\n",
              "      <td>1.000000</td>\n",
              "      <td>271.250000</td>\n",
              "      <td>1864.000000</td>\n",
              "      <td>14.000000</td>\n",
              "    </tr>\n",
              "    <tr>\n",
              "      <th>25%</th>\n",
              "      <td>190.750000</td>\n",
              "      <td>2.000000</td>\n",
              "      <td>1039.500000</td>\n",
              "      <td>1959.000000</td>\n",
              "      <td>55.097500</td>\n",
              "    </tr>\n",
              "    <tr>\n",
              "      <th>50%</th>\n",
              "      <td>381.500000</td>\n",
              "      <td>2.500000</td>\n",
              "      <td>1565.480000</td>\n",
              "      <td>2015.000000</td>\n",
              "      <td>77.600000</td>\n",
              "    </tr>\n",
              "    <tr>\n",
              "      <th>75%</th>\n",
              "      <td>572.250000</td>\n",
              "      <td>3.000000</td>\n",
              "      <td>2170.000000</td>\n",
              "      <td>2019.000000</td>\n",
              "      <td>104.450000</td>\n",
              "    </tr>\n",
              "    <tr>\n",
              "      <th>max</th>\n",
              "      <td>763.000000</td>\n",
              "      <td>7.000000</td>\n",
              "      <td>14207.000000</td>\n",
              "      <td>2020.000000</td>\n",
              "      <td>413.910000</td>\n",
              "    </tr>\n",
              "  </tbody>\n",
              "</table>\n",
              "</div>"
            ],
            "text/plain": [
              "       Unnamed: 0       Rooms          Rent  Year_Construction       Space\n",
              "count  764.000000  764.000000    764.000000         764.000000  764.000000\n",
              "mean   381.500000    2.549738   1768.560942        1983.695026   84.656270\n",
              "std    220.692093    1.010826   1118.263961          48.006060   44.195338\n",
              "min      0.000000    1.000000    271.250000        1864.000000   14.000000\n",
              "25%    190.750000    2.000000   1039.500000        1959.000000   55.097500\n",
              "50%    381.500000    2.500000   1565.480000        2015.000000   77.600000\n",
              "75%    572.250000    3.000000   2170.000000        2019.000000  104.450000\n",
              "max    763.000000    7.000000  14207.000000        2020.000000  413.910000"
            ]
          },
          "metadata": {},
          "execution_count": 312
        }
      ]
    },
    {
      "cell_type": "code",
      "metadata": {
        "colab": {
          "base_uri": "https://localhost:8080/"
        },
        "id": "tpPFd6UKrfAn",
        "outputId": "a889f41e-4de6-4c40-d648-da2edeb615c9"
      },
      "source": [
        "df.info()"
      ],
      "execution_count": 313,
      "outputs": [
        {
          "output_type": "stream",
          "name": "stdout",
          "text": [
            "<class 'pandas.core.frame.DataFrame'>\n",
            "RangeIndex: 764 entries, 0 to 763\n",
            "Data columns (total 7 columns):\n",
            " #   Column             Non-Null Count  Dtype  \n",
            "---  ------             --------------  -----  \n",
            " 0   Unnamed: 0         764 non-null    int64  \n",
            " 1   Region             764 non-null    object \n",
            " 2   Condition          764 non-null    object \n",
            " 3   Rooms              764 non-null    float64\n",
            " 4   Rent               764 non-null    float64\n",
            " 5   Year_Construction  764 non-null    int64  \n",
            " 6   Space              764 non-null    float64\n",
            "dtypes: float64(3), int64(2), object(2)\n",
            "memory usage: 41.9+ KB\n"
          ]
        }
      ]
    },
    {
      "cell_type": "code",
      "metadata": {
        "id": "f9hEUZjcrgO5"
      },
      "source": [
        "df=df.drop(columns='Unnamed: 0')"
      ],
      "execution_count": 314,
      "outputs": []
    },
    {
      "cell_type": "code",
      "metadata": {
        "colab": {
          "base_uri": "https://localhost:8080/"
        },
        "id": "q5l8Z6Mkua3c",
        "outputId": "e844b1d1-63f0-4ff2-c51b-15935dfc595d"
      },
      "source": [
        "df.shape"
      ],
      "execution_count": 315,
      "outputs": [
        {
          "output_type": "execute_result",
          "data": {
            "text/plain": [
              "(764, 6)"
            ]
          },
          "metadata": {},
          "execution_count": 315
        }
      ]
    },
    {
      "cell_type": "code",
      "metadata": {
        "colab": {
          "base_uri": "https://localhost:8080/"
        },
        "id": "-JmkNBt-ufNQ",
        "outputId": "1575b615-6c9c-48ee-d42f-f9219eb14260"
      },
      "source": [
        "df.Region.unique()"
      ],
      "execution_count": 316,
      "outputs": [
        {
          "output_type": "execute_result",
          "data": {
            "text/plain": [
              "array(['Mitte', 'Kreuzberg', 'Köpenick', 'Wilmersdorf', 'Charlottenburg',\n",
              "       'Friedrichsfelde', 'Tiergarten', 'Prenzlauer', 'Wedding',\n",
              "       'Neukölln'], dtype=object)"
            ]
          },
          "metadata": {},
          "execution_count": 316
        }
      ]
    },
    {
      "cell_type": "code",
      "metadata": {
        "colab": {
          "base_uri": "https://localhost:8080/"
        },
        "id": "Br4EHJOOuqKX",
        "outputId": "6b5edb4e-dcef-4049-e7d2-fd2c8ab46170"
      },
      "source": [
        "df.Region.nunique()"
      ],
      "execution_count": 317,
      "outputs": [
        {
          "output_type": "execute_result",
          "data": {
            "text/plain": [
              "10"
            ]
          },
          "metadata": {},
          "execution_count": 317
        }
      ]
    },
    {
      "cell_type": "code",
      "metadata": {
        "colab": {
          "base_uri": "https://localhost:8080/",
          "height": 80
        },
        "id": "x31hsvkQusp4",
        "outputId": "7230d3bc-0872-478e-ec61-5cebeda63926"
      },
      "source": [
        "smallest_space=df[df.Space == df.Space.min()]\n",
        "smallest_space"
      ],
      "execution_count": 318,
      "outputs": [
        {
          "output_type": "execute_result",
          "data": {
            "text/html": [
              "<div>\n",
              "<style scoped>\n",
              "    .dataframe tbody tr th:only-of-type {\n",
              "        vertical-align: middle;\n",
              "    }\n",
              "\n",
              "    .dataframe tbody tr th {\n",
              "        vertical-align: top;\n",
              "    }\n",
              "\n",
              "    .dataframe thead th {\n",
              "        text-align: right;\n",
              "    }\n",
              "</style>\n",
              "<table border=\"1\" class=\"dataframe\">\n",
              "  <thead>\n",
              "    <tr style=\"text-align: right;\">\n",
              "      <th></th>\n",
              "      <th>Region</th>\n",
              "      <th>Condition</th>\n",
              "      <th>Rooms</th>\n",
              "      <th>Rent</th>\n",
              "      <th>Year_Construction</th>\n",
              "      <th>Space</th>\n",
              "    </tr>\n",
              "  </thead>\n",
              "  <tbody>\n",
              "    <tr>\n",
              "      <th>84</th>\n",
              "      <td>Neukölln</td>\n",
              "      <td>well_kept</td>\n",
              "      <td>1.0</td>\n",
              "      <td>450.0</td>\n",
              "      <td>1910</td>\n",
              "      <td>14.0</td>\n",
              "    </tr>\n",
              "  </tbody>\n",
              "</table>\n",
              "</div>"
            ],
            "text/plain": [
              "      Region  Condition  Rooms   Rent  Year_Construction  Space\n",
              "84  Neukölln  well_kept    1.0  450.0               1910   14.0"
            ]
          },
          "metadata": {},
          "execution_count": 318
        }
      ]
    },
    {
      "cell_type": "code",
      "metadata": {
        "colab": {
          "base_uri": "https://localhost:8080/",
          "height": 80
        },
        "id": "PfOMtW31vP0-",
        "outputId": "57b0116b-54f5-4bbd-aeb4-40c22b673689"
      },
      "source": [
        "largest_space=df[df.Space == df.Space.max()]\n",
        "largest_space"
      ],
      "execution_count": 319,
      "outputs": [
        {
          "output_type": "execute_result",
          "data": {
            "text/html": [
              "<div>\n",
              "<style scoped>\n",
              "    .dataframe tbody tr th:only-of-type {\n",
              "        vertical-align: middle;\n",
              "    }\n",
              "\n",
              "    .dataframe tbody tr th {\n",
              "        vertical-align: top;\n",
              "    }\n",
              "\n",
              "    .dataframe thead th {\n",
              "        text-align: right;\n",
              "    }\n",
              "</style>\n",
              "<table border=\"1\" class=\"dataframe\">\n",
              "  <thead>\n",
              "    <tr style=\"text-align: right;\">\n",
              "      <th></th>\n",
              "      <th>Region</th>\n",
              "      <th>Condition</th>\n",
              "      <th>Rooms</th>\n",
              "      <th>Rent</th>\n",
              "      <th>Year_Construction</th>\n",
              "      <th>Space</th>\n",
              "    </tr>\n",
              "  </thead>\n",
              "  <tbody>\n",
              "    <tr>\n",
              "      <th>694</th>\n",
              "      <td>Mitte</td>\n",
              "      <td>mint_condition</td>\n",
              "      <td>5.0</td>\n",
              "      <td>14207.0</td>\n",
              "      <td>2015</td>\n",
              "      <td>413.91</td>\n",
              "    </tr>\n",
              "  </tbody>\n",
              "</table>\n",
              "</div>"
            ],
            "text/plain": [
              "    Region       Condition  Rooms     Rent  Year_Construction   Space\n",
              "694  Mitte  mint_condition    5.0  14207.0               2015  413.91"
            ]
          },
          "metadata": {},
          "execution_count": 319
        }
      ]
    },
    {
      "cell_type": "code",
      "metadata": {
        "colab": {
          "base_uri": "https://localhost:8080/"
        },
        "id": "qs8mExTsnXvI",
        "outputId": "6cb17707-562b-4bd6-d5a3-c35237eececc"
      },
      "source": [
        "len(df.Region.value_counts())"
      ],
      "execution_count": 320,
      "outputs": [
        {
          "output_type": "execute_result",
          "data": {
            "text/plain": [
              "10"
            ]
          },
          "metadata": {},
          "execution_count": 320
        }
      ]
    },
    {
      "cell_type": "code",
      "metadata": {
        "colab": {
          "base_uri": "https://localhost:8080/"
        },
        "id": "3uRxmjdsngvy",
        "outputId": "4c3a9497-065f-4a82-a175-c9d2b0c7b934"
      },
      "source": [
        "len(df.Condition.value_counts())"
      ],
      "execution_count": 321,
      "outputs": [
        {
          "output_type": "execute_result",
          "data": {
            "text/plain": [
              "9"
            ]
          },
          "metadata": {},
          "execution_count": 321
        }
      ]
    },
    {
      "cell_type": "code",
      "metadata": {
        "id": "Vb2MTyWEnwE8"
      },
      "source": [
        "Condition=pd.get_dummies(df['Condition'])"
      ],
      "execution_count": 322,
      "outputs": []
    },
    {
      "cell_type": "code",
      "metadata": {
        "colab": {
          "base_uri": "https://localhost:8080/",
          "height": 204
        },
        "id": "3TLhLhqAn5Bv",
        "outputId": "8fd2a1df-28dd-4314-adeb-f0742adae530"
      },
      "source": [
        "df.sample(5)"
      ],
      "execution_count": 323,
      "outputs": [
        {
          "output_type": "execute_result",
          "data": {
            "text/html": [
              "<div>\n",
              "<style scoped>\n",
              "    .dataframe tbody tr th:only-of-type {\n",
              "        vertical-align: middle;\n",
              "    }\n",
              "\n",
              "    .dataframe tbody tr th {\n",
              "        vertical-align: top;\n",
              "    }\n",
              "\n",
              "    .dataframe thead th {\n",
              "        text-align: right;\n",
              "    }\n",
              "</style>\n",
              "<table border=\"1\" class=\"dataframe\">\n",
              "  <thead>\n",
              "    <tr style=\"text-align: right;\">\n",
              "      <th></th>\n",
              "      <th>Region</th>\n",
              "      <th>Condition</th>\n",
              "      <th>Rooms</th>\n",
              "      <th>Rent</th>\n",
              "      <th>Year_Construction</th>\n",
              "      <th>Space</th>\n",
              "    </tr>\n",
              "  </thead>\n",
              "  <tbody>\n",
              "    <tr>\n",
              "      <th>674</th>\n",
              "      <td>Prenzlauer</td>\n",
              "      <td>refurbished</td>\n",
              "      <td>4.0</td>\n",
              "      <td>2069.26</td>\n",
              "      <td>1914</td>\n",
              "      <td>82.77</td>\n",
              "    </tr>\n",
              "    <tr>\n",
              "      <th>316</th>\n",
              "      <td>Wedding</td>\n",
              "      <td>mint_condition</td>\n",
              "      <td>3.0</td>\n",
              "      <td>1500.00</td>\n",
              "      <td>2020</td>\n",
              "      <td>78.00</td>\n",
              "    </tr>\n",
              "    <tr>\n",
              "      <th>219</th>\n",
              "      <td>Mitte</td>\n",
              "      <td>no_information</td>\n",
              "      <td>3.0</td>\n",
              "      <td>1897.20</td>\n",
              "      <td>1996</td>\n",
              "      <td>102.00</td>\n",
              "    </tr>\n",
              "    <tr>\n",
              "      <th>294</th>\n",
              "      <td>Wedding</td>\n",
              "      <td>first_time_use</td>\n",
              "      <td>1.0</td>\n",
              "      <td>680.00</td>\n",
              "      <td>2017</td>\n",
              "      <td>20.50</td>\n",
              "    </tr>\n",
              "    <tr>\n",
              "      <th>707</th>\n",
              "      <td>Tiergarten</td>\n",
              "      <td>first_time_use</td>\n",
              "      <td>3.0</td>\n",
              "      <td>2198.97</td>\n",
              "      <td>2019</td>\n",
              "      <td>108.86</td>\n",
              "    </tr>\n",
              "  </tbody>\n",
              "</table>\n",
              "</div>"
            ],
            "text/plain": [
              "         Region       Condition  Rooms     Rent  Year_Construction   Space\n",
              "674  Prenzlauer     refurbished    4.0  2069.26               1914   82.77\n",
              "316     Wedding  mint_condition    3.0  1500.00               2020   78.00\n",
              "219       Mitte  no_information    3.0  1897.20               1996  102.00\n",
              "294     Wedding  first_time_use    1.0   680.00               2017   20.50\n",
              "707  Tiergarten  first_time_use    3.0  2198.97               2019  108.86"
            ]
          },
          "metadata": {},
          "execution_count": 323
        }
      ]
    },
    {
      "cell_type": "code",
      "metadata": {
        "id": "imKOaXf0n-j7"
      },
      "source": [
        "df=df.drop(columns='Condition')"
      ],
      "execution_count": 324,
      "outputs": []
    },
    {
      "cell_type": "code",
      "metadata": {
        "colab": {
          "base_uri": "https://localhost:8080/",
          "height": 204
        },
        "id": "Zw09j4nvoT3H",
        "outputId": "3d96a99a-bc85-4051-d3e4-fb8d2a212af1"
      },
      "source": [
        "df.sample(5)"
      ],
      "execution_count": 325,
      "outputs": [
        {
          "output_type": "execute_result",
          "data": {
            "text/html": [
              "<div>\n",
              "<style scoped>\n",
              "    .dataframe tbody tr th:only-of-type {\n",
              "        vertical-align: middle;\n",
              "    }\n",
              "\n",
              "    .dataframe tbody tr th {\n",
              "        vertical-align: top;\n",
              "    }\n",
              "\n",
              "    .dataframe thead th {\n",
              "        text-align: right;\n",
              "    }\n",
              "</style>\n",
              "<table border=\"1\" class=\"dataframe\">\n",
              "  <thead>\n",
              "    <tr style=\"text-align: right;\">\n",
              "      <th></th>\n",
              "      <th>Region</th>\n",
              "      <th>Rooms</th>\n",
              "      <th>Rent</th>\n",
              "      <th>Year_Construction</th>\n",
              "      <th>Space</th>\n",
              "    </tr>\n",
              "  </thead>\n",
              "  <tbody>\n",
              "    <tr>\n",
              "      <th>144</th>\n",
              "      <td>Charlottenburg</td>\n",
              "      <td>1.0</td>\n",
              "      <td>1300.00</td>\n",
              "      <td>2019</td>\n",
              "      <td>39.40</td>\n",
              "    </tr>\n",
              "    <tr>\n",
              "      <th>206</th>\n",
              "      <td>Neukölln</td>\n",
              "      <td>1.0</td>\n",
              "      <td>407.42</td>\n",
              "      <td>1900</td>\n",
              "      <td>42.75</td>\n",
              "    </tr>\n",
              "    <tr>\n",
              "      <th>2</th>\n",
              "      <td>Köpenick</td>\n",
              "      <td>2.0</td>\n",
              "      <td>979.00</td>\n",
              "      <td>1997</td>\n",
              "      <td>83.61</td>\n",
              "    </tr>\n",
              "    <tr>\n",
              "      <th>129</th>\n",
              "      <td>Tiergarten</td>\n",
              "      <td>1.0</td>\n",
              "      <td>1038.00</td>\n",
              "      <td>2020</td>\n",
              "      <td>30.00</td>\n",
              "    </tr>\n",
              "    <tr>\n",
              "      <th>52</th>\n",
              "      <td>Prenzlauer</td>\n",
              "      <td>2.0</td>\n",
              "      <td>2251.00</td>\n",
              "      <td>2019</td>\n",
              "      <td>79.05</td>\n",
              "    </tr>\n",
              "  </tbody>\n",
              "</table>\n",
              "</div>"
            ],
            "text/plain": [
              "             Region  Rooms     Rent  Year_Construction  Space\n",
              "144  Charlottenburg    1.0  1300.00               2019  39.40\n",
              "206        Neukölln    1.0   407.42               1900  42.75\n",
              "2          Köpenick    2.0   979.00               1997  83.61\n",
              "129      Tiergarten    1.0  1038.00               2020  30.00\n",
              "52       Prenzlauer    2.0  2251.00               2019  79.05"
            ]
          },
          "metadata": {},
          "execution_count": 325
        }
      ]
    },
    {
      "cell_type": "code",
      "metadata": {
        "colab": {
          "base_uri": "https://localhost:8080/",
          "height": 439
        },
        "id": "x4Lyz3ZsoXWn",
        "outputId": "d2e9c2be-3441-4a68-9e37-7b6446de2013"
      },
      "source": [
        "df.join(Condition)"
      ],
      "execution_count": 326,
      "outputs": [
        {
          "output_type": "execute_result",
          "data": {
            "text/html": [
              "<div>\n",
              "<style scoped>\n",
              "    .dataframe tbody tr th:only-of-type {\n",
              "        vertical-align: middle;\n",
              "    }\n",
              "\n",
              "    .dataframe tbody tr th {\n",
              "        vertical-align: top;\n",
              "    }\n",
              "\n",
              "    .dataframe thead th {\n",
              "        text-align: right;\n",
              "    }\n",
              "</style>\n",
              "<table border=\"1\" class=\"dataframe\">\n",
              "  <thead>\n",
              "    <tr style=\"text-align: right;\">\n",
              "      <th></th>\n",
              "      <th>Region</th>\n",
              "      <th>Rooms</th>\n",
              "      <th>Rent</th>\n",
              "      <th>Year_Construction</th>\n",
              "      <th>Space</th>\n",
              "      <th>first_time_use</th>\n",
              "      <th>first_time_use_after_refurbishment</th>\n",
              "      <th>fully_renovated</th>\n",
              "      <th>mint_condition</th>\n",
              "      <th>modernized</th>\n",
              "      <th>need_of_renovation</th>\n",
              "      <th>no_information</th>\n",
              "      <th>refurbished</th>\n",
              "      <th>well_kept</th>\n",
              "    </tr>\n",
              "  </thead>\n",
              "  <tbody>\n",
              "    <tr>\n",
              "      <th>0</th>\n",
              "      <td>Mitte</td>\n",
              "      <td>4.0</td>\n",
              "      <td>2659.00</td>\n",
              "      <td>2019</td>\n",
              "      <td>117.20</td>\n",
              "      <td>1</td>\n",
              "      <td>0</td>\n",
              "      <td>0</td>\n",
              "      <td>0</td>\n",
              "      <td>0</td>\n",
              "      <td>0</td>\n",
              "      <td>0</td>\n",
              "      <td>0</td>\n",
              "      <td>0</td>\n",
              "    </tr>\n",
              "    <tr>\n",
              "      <th>1</th>\n",
              "      <td>Kreuzberg</td>\n",
              "      <td>1.0</td>\n",
              "      <td>1200.00</td>\n",
              "      <td>2020</td>\n",
              "      <td>29.33</td>\n",
              "      <td>1</td>\n",
              "      <td>0</td>\n",
              "      <td>0</td>\n",
              "      <td>0</td>\n",
              "      <td>0</td>\n",
              "      <td>0</td>\n",
              "      <td>0</td>\n",
              "      <td>0</td>\n",
              "      <td>0</td>\n",
              "    </tr>\n",
              "    <tr>\n",
              "      <th>2</th>\n",
              "      <td>Köpenick</td>\n",
              "      <td>2.0</td>\n",
              "      <td>979.00</td>\n",
              "      <td>1997</td>\n",
              "      <td>83.61</td>\n",
              "      <td>0</td>\n",
              "      <td>0</td>\n",
              "      <td>0</td>\n",
              "      <td>0</td>\n",
              "      <td>0</td>\n",
              "      <td>0</td>\n",
              "      <td>0</td>\n",
              "      <td>0</td>\n",
              "      <td>1</td>\n",
              "    </tr>\n",
              "    <tr>\n",
              "      <th>3</th>\n",
              "      <td>Wilmersdorf</td>\n",
              "      <td>4.0</td>\n",
              "      <td>1830.22</td>\n",
              "      <td>1900</td>\n",
              "      <td>171.18</td>\n",
              "      <td>0</td>\n",
              "      <td>0</td>\n",
              "      <td>0</td>\n",
              "      <td>0</td>\n",
              "      <td>0</td>\n",
              "      <td>0</td>\n",
              "      <td>0</td>\n",
              "      <td>0</td>\n",
              "      <td>1</td>\n",
              "    </tr>\n",
              "    <tr>\n",
              "      <th>4</th>\n",
              "      <td>Kreuzberg</td>\n",
              "      <td>2.0</td>\n",
              "      <td>2272.00</td>\n",
              "      <td>2020</td>\n",
              "      <td>88.27</td>\n",
              "      <td>1</td>\n",
              "      <td>0</td>\n",
              "      <td>0</td>\n",
              "      <td>0</td>\n",
              "      <td>0</td>\n",
              "      <td>0</td>\n",
              "      <td>0</td>\n",
              "      <td>0</td>\n",
              "      <td>0</td>\n",
              "    </tr>\n",
              "    <tr>\n",
              "      <th>...</th>\n",
              "      <td>...</td>\n",
              "      <td>...</td>\n",
              "      <td>...</td>\n",
              "      <td>...</td>\n",
              "      <td>...</td>\n",
              "      <td>...</td>\n",
              "      <td>...</td>\n",
              "      <td>...</td>\n",
              "      <td>...</td>\n",
              "      <td>...</td>\n",
              "      <td>...</td>\n",
              "      <td>...</td>\n",
              "      <td>...</td>\n",
              "      <td>...</td>\n",
              "    </tr>\n",
              "    <tr>\n",
              "      <th>759</th>\n",
              "      <td>Wedding</td>\n",
              "      <td>1.0</td>\n",
              "      <td>959.00</td>\n",
              "      <td>2017</td>\n",
              "      <td>27.80</td>\n",
              "      <td>0</td>\n",
              "      <td>0</td>\n",
              "      <td>0</td>\n",
              "      <td>1</td>\n",
              "      <td>0</td>\n",
              "      <td>0</td>\n",
              "      <td>0</td>\n",
              "      <td>0</td>\n",
              "      <td>0</td>\n",
              "    </tr>\n",
              "    <tr>\n",
              "      <th>760</th>\n",
              "      <td>Wedding</td>\n",
              "      <td>1.0</td>\n",
              "      <td>649.00</td>\n",
              "      <td>2017</td>\n",
              "      <td>20.50</td>\n",
              "      <td>0</td>\n",
              "      <td>0</td>\n",
              "      <td>0</td>\n",
              "      <td>1</td>\n",
              "      <td>0</td>\n",
              "      <td>0</td>\n",
              "      <td>0</td>\n",
              "      <td>0</td>\n",
              "      <td>0</td>\n",
              "    </tr>\n",
              "    <tr>\n",
              "      <th>761</th>\n",
              "      <td>Wilmersdorf</td>\n",
              "      <td>4.0</td>\n",
              "      <td>2750.00</td>\n",
              "      <td>2017</td>\n",
              "      <td>110.00</td>\n",
              "      <td>0</td>\n",
              "      <td>0</td>\n",
              "      <td>0</td>\n",
              "      <td>1</td>\n",
              "      <td>0</td>\n",
              "      <td>0</td>\n",
              "      <td>0</td>\n",
              "      <td>0</td>\n",
              "      <td>0</td>\n",
              "    </tr>\n",
              "    <tr>\n",
              "      <th>762</th>\n",
              "      <td>Köpenick</td>\n",
              "      <td>2.0</td>\n",
              "      <td>1259.00</td>\n",
              "      <td>2017</td>\n",
              "      <td>91.20</td>\n",
              "      <td>0</td>\n",
              "      <td>0</td>\n",
              "      <td>0</td>\n",
              "      <td>0</td>\n",
              "      <td>0</td>\n",
              "      <td>0</td>\n",
              "      <td>0</td>\n",
              "      <td>0</td>\n",
              "      <td>1</td>\n",
              "    </tr>\n",
              "    <tr>\n",
              "      <th>763</th>\n",
              "      <td>Neukölln</td>\n",
              "      <td>2.0</td>\n",
              "      <td>888.00</td>\n",
              "      <td>1990</td>\n",
              "      <td>68.48</td>\n",
              "      <td>0</td>\n",
              "      <td>0</td>\n",
              "      <td>1</td>\n",
              "      <td>0</td>\n",
              "      <td>0</td>\n",
              "      <td>0</td>\n",
              "      <td>0</td>\n",
              "      <td>0</td>\n",
              "      <td>0</td>\n",
              "    </tr>\n",
              "  </tbody>\n",
              "</table>\n",
              "<p>764 rows × 14 columns</p>\n",
              "</div>"
            ],
            "text/plain": [
              "          Region  Rooms     Rent  ...  no_information  refurbished  well_kept\n",
              "0          Mitte    4.0  2659.00  ...               0            0          0\n",
              "1      Kreuzberg    1.0  1200.00  ...               0            0          0\n",
              "2       Köpenick    2.0   979.00  ...               0            0          1\n",
              "3    Wilmersdorf    4.0  1830.22  ...               0            0          1\n",
              "4      Kreuzberg    2.0  2272.00  ...               0            0          0\n",
              "..           ...    ...      ...  ...             ...          ...        ...\n",
              "759      Wedding    1.0   959.00  ...               0            0          0\n",
              "760      Wedding    1.0   649.00  ...               0            0          0\n",
              "761  Wilmersdorf    4.0  2750.00  ...               0            0          0\n",
              "762     Köpenick    2.0  1259.00  ...               0            0          1\n",
              "763     Neukölln    2.0   888.00  ...               0            0          0\n",
              "\n",
              "[764 rows x 14 columns]"
            ]
          },
          "metadata": {},
          "execution_count": 326
        }
      ]
    },
    {
      "cell_type": "code",
      "metadata": {
        "id": "0aHJapa4o6jA"
      },
      "source": [
        "Region=pd.get_dummies(df['Region'])"
      ],
      "execution_count": 327,
      "outputs": []
    },
    {
      "cell_type": "code",
      "metadata": {
        "id": "qkOULcICpTyR"
      },
      "source": [
        "df=df.drop(columns='Region')"
      ],
      "execution_count": 328,
      "outputs": []
    },
    {
      "cell_type": "code",
      "metadata": {
        "id": "nGsXw_08pZGa"
      },
      "source": [
        "df=df.join(Region)"
      ],
      "execution_count": 329,
      "outputs": []
    },
    {
      "cell_type": "code",
      "metadata": {
        "id": "otHwvxVypg82"
      },
      "source": [
        "df=df.join(Condition)"
      ],
      "execution_count": 330,
      "outputs": []
    },
    {
      "cell_type": "code",
      "metadata": {
        "colab": {
          "base_uri": "https://localhost:8080/",
          "height": 224
        },
        "id": "r9gFrt66ppCi",
        "outputId": "7433dcd9-e89a-4859-9297-cb74fb4f07f4"
      },
      "source": [
        "df.sample(5)"
      ],
      "execution_count": 331,
      "outputs": [
        {
          "output_type": "execute_result",
          "data": {
            "text/html": [
              "<div>\n",
              "<style scoped>\n",
              "    .dataframe tbody tr th:only-of-type {\n",
              "        vertical-align: middle;\n",
              "    }\n",
              "\n",
              "    .dataframe tbody tr th {\n",
              "        vertical-align: top;\n",
              "    }\n",
              "\n",
              "    .dataframe thead th {\n",
              "        text-align: right;\n",
              "    }\n",
              "</style>\n",
              "<table border=\"1\" class=\"dataframe\">\n",
              "  <thead>\n",
              "    <tr style=\"text-align: right;\">\n",
              "      <th></th>\n",
              "      <th>Rooms</th>\n",
              "      <th>Rent</th>\n",
              "      <th>Year_Construction</th>\n",
              "      <th>Space</th>\n",
              "      <th>Charlottenburg</th>\n",
              "      <th>Friedrichsfelde</th>\n",
              "      <th>Kreuzberg</th>\n",
              "      <th>Köpenick</th>\n",
              "      <th>Mitte</th>\n",
              "      <th>Neukölln</th>\n",
              "      <th>Prenzlauer</th>\n",
              "      <th>Tiergarten</th>\n",
              "      <th>Wedding</th>\n",
              "      <th>Wilmersdorf</th>\n",
              "      <th>first_time_use</th>\n",
              "      <th>first_time_use_after_refurbishment</th>\n",
              "      <th>fully_renovated</th>\n",
              "      <th>mint_condition</th>\n",
              "      <th>modernized</th>\n",
              "      <th>need_of_renovation</th>\n",
              "      <th>no_information</th>\n",
              "      <th>refurbished</th>\n",
              "      <th>well_kept</th>\n",
              "    </tr>\n",
              "  </thead>\n",
              "  <tbody>\n",
              "    <tr>\n",
              "      <th>647</th>\n",
              "      <td>3.0</td>\n",
              "      <td>1958.69</td>\n",
              "      <td>1917</td>\n",
              "      <td>112.31</td>\n",
              "      <td>0</td>\n",
              "      <td>0</td>\n",
              "      <td>0</td>\n",
              "      <td>0</td>\n",
              "      <td>0</td>\n",
              "      <td>1</td>\n",
              "      <td>0</td>\n",
              "      <td>0</td>\n",
              "      <td>0</td>\n",
              "      <td>0</td>\n",
              "      <td>1</td>\n",
              "      <td>0</td>\n",
              "      <td>0</td>\n",
              "      <td>0</td>\n",
              "      <td>0</td>\n",
              "      <td>0</td>\n",
              "      <td>0</td>\n",
              "      <td>0</td>\n",
              "      <td>0</td>\n",
              "    </tr>\n",
              "    <tr>\n",
              "      <th>518</th>\n",
              "      <td>2.0</td>\n",
              "      <td>2170.00</td>\n",
              "      <td>2006</td>\n",
              "      <td>83.65</td>\n",
              "      <td>0</td>\n",
              "      <td>0</td>\n",
              "      <td>0</td>\n",
              "      <td>0</td>\n",
              "      <td>1</td>\n",
              "      <td>0</td>\n",
              "      <td>0</td>\n",
              "      <td>0</td>\n",
              "      <td>0</td>\n",
              "      <td>0</td>\n",
              "      <td>0</td>\n",
              "      <td>0</td>\n",
              "      <td>0</td>\n",
              "      <td>0</td>\n",
              "      <td>0</td>\n",
              "      <td>0</td>\n",
              "      <td>1</td>\n",
              "      <td>0</td>\n",
              "      <td>0</td>\n",
              "    </tr>\n",
              "    <tr>\n",
              "      <th>342</th>\n",
              "      <td>2.0</td>\n",
              "      <td>1200.00</td>\n",
              "      <td>1993</td>\n",
              "      <td>54.00</td>\n",
              "      <td>0</td>\n",
              "      <td>0</td>\n",
              "      <td>0</td>\n",
              "      <td>0</td>\n",
              "      <td>1</td>\n",
              "      <td>0</td>\n",
              "      <td>0</td>\n",
              "      <td>0</td>\n",
              "      <td>0</td>\n",
              "      <td>0</td>\n",
              "      <td>0</td>\n",
              "      <td>0</td>\n",
              "      <td>0</td>\n",
              "      <td>0</td>\n",
              "      <td>1</td>\n",
              "      <td>0</td>\n",
              "      <td>0</td>\n",
              "      <td>0</td>\n",
              "      <td>0</td>\n",
              "    </tr>\n",
              "    <tr>\n",
              "      <th>68</th>\n",
              "      <td>5.0</td>\n",
              "      <td>4945.00</td>\n",
              "      <td>2019</td>\n",
              "      <td>215.00</td>\n",
              "      <td>0</td>\n",
              "      <td>0</td>\n",
              "      <td>0</td>\n",
              "      <td>0</td>\n",
              "      <td>0</td>\n",
              "      <td>0</td>\n",
              "      <td>0</td>\n",
              "      <td>1</td>\n",
              "      <td>0</td>\n",
              "      <td>0</td>\n",
              "      <td>0</td>\n",
              "      <td>0</td>\n",
              "      <td>0</td>\n",
              "      <td>1</td>\n",
              "      <td>0</td>\n",
              "      <td>0</td>\n",
              "      <td>0</td>\n",
              "      <td>0</td>\n",
              "      <td>0</td>\n",
              "    </tr>\n",
              "    <tr>\n",
              "      <th>147</th>\n",
              "      <td>1.0</td>\n",
              "      <td>1300.00</td>\n",
              "      <td>2019</td>\n",
              "      <td>38.36</td>\n",
              "      <td>1</td>\n",
              "      <td>0</td>\n",
              "      <td>0</td>\n",
              "      <td>0</td>\n",
              "      <td>0</td>\n",
              "      <td>0</td>\n",
              "      <td>0</td>\n",
              "      <td>0</td>\n",
              "      <td>0</td>\n",
              "      <td>0</td>\n",
              "      <td>1</td>\n",
              "      <td>0</td>\n",
              "      <td>0</td>\n",
              "      <td>0</td>\n",
              "      <td>0</td>\n",
              "      <td>0</td>\n",
              "      <td>0</td>\n",
              "      <td>0</td>\n",
              "      <td>0</td>\n",
              "    </tr>\n",
              "  </tbody>\n",
              "</table>\n",
              "</div>"
            ],
            "text/plain": [
              "     Rooms     Rent  Year_Construction  ...  no_information  refurbished  well_kept\n",
              "647    3.0  1958.69               1917  ...               0            0          0\n",
              "518    2.0  2170.00               2006  ...               1            0          0\n",
              "342    2.0  1200.00               1993  ...               0            0          0\n",
              "68     5.0  4945.00               2019  ...               0            0          0\n",
              "147    1.0  1300.00               2019  ...               0            0          0\n",
              "\n",
              "[5 rows x 23 columns]"
            ]
          },
          "metadata": {},
          "execution_count": 331
        }
      ]
    },
    {
      "cell_type": "code",
      "metadata": {
        "id": "NeuDJ6MyqNds"
      },
      "source": [
        "correlated_df=df.corr()"
      ],
      "execution_count": 332,
      "outputs": []
    },
    {
      "cell_type": "code",
      "metadata": {
        "colab": {
          "base_uri": "https://localhost:8080/",
          "height": 777
        },
        "id": "5xq-PkoAZbbU",
        "outputId": "e0e1546b-43d5-4a4d-c61a-6b98826cf34e"
      },
      "source": [
        "fig, ax = plt.subplots(figsize=(10,10))\n",
        "sns.heatmap(correlated_df)"
      ],
      "execution_count": 333,
      "outputs": [
        {
          "output_type": "execute_result",
          "data": {
            "text/plain": [
              "<matplotlib.axes._subplots.AxesSubplot at 0x7f3adc3696d0>"
            ]
          },
          "metadata": {},
          "execution_count": 333
        },
        {
          "output_type": "display_data",
          "data": {
            "image/png": "[encoded data removed]",
            "text/plain": [
              "<Figure size 720x720 with 2 Axes>"
            ]
          },
          "metadata": {
            "needs_background": "light"
          }
        }
      ]
    },
    {
      "cell_type": "code",
      "metadata": {
        "id": "zaf4ItoDZcll",
        "colab": {
          "base_uri": "https://localhost:8080/",
          "height": 613
        },
        "outputId": "0038fcc5-562f-467b-8692-289cc4eb4d1d"
      },
      "source": [
        "fig, ax = plt.subplots(figsize=(10,10))\n",
        "sns.heatmap(df[['Rent','Rooms','Space']].corr(),annot=True)"
      ],
      "execution_count": 334,
      "outputs": [
        {
          "output_type": "execute_result",
          "data": {
            "text/plain": [
              "<matplotlib.axes._subplots.AxesSubplot at 0x7f3add2fe210>"
            ]
          },
          "metadata": {},
          "execution_count": 334
        },
        {
          "output_type": "display_data",
          "data": {
            "image/png": "[encoded data removed]",
            "text/plain": [
              "<Figure size 720x720 with 2 Axes>"
            ]
          },
          "metadata": {
            "needs_background": "light"
          }
        }
      ]
    },
    {
      "cell_type": "code",
      "metadata": {
        "id": "BpkaSVz_ajXY"
      },
      "source": [
        "df=df[['Rent','Rooms','Space']]"
      ],
      "execution_count": 335,
      "outputs": []
    },
    {
      "cell_type": "code",
      "metadata": {
        "id": "xW78cr91a-xU",
        "colab": {
          "base_uri": "https://localhost:8080/",
          "height": 204
        },
        "outputId": "2b341b52-e30d-4fd9-95a5-f4a38511e619"
      },
      "source": [
        "df.sample(5)"
      ],
      "execution_count": 336,
      "outputs": [
        {
          "output_type": "execute_result",
          "data": {
            "text/html": [
              "<div>\n",
              "<style scoped>\n",
              "    .dataframe tbody tr th:only-of-type {\n",
              "        vertical-align: middle;\n",
              "    }\n",
              "\n",
              "    .dataframe tbody tr th {\n",
              "        vertical-align: top;\n",
              "    }\n",
              "\n",
              "    .dataframe thead th {\n",
              "        text-align: right;\n",
              "    }\n",
              "</style>\n",
              "<table border=\"1\" class=\"dataframe\">\n",
              "  <thead>\n",
              "    <tr style=\"text-align: right;\">\n",
              "      <th></th>\n",
              "      <th>Rent</th>\n",
              "      <th>Rooms</th>\n",
              "      <th>Space</th>\n",
              "    </tr>\n",
              "  </thead>\n",
              "  <tbody>\n",
              "    <tr>\n",
              "      <th>740</th>\n",
              "      <td>610.00</td>\n",
              "      <td>1.0</td>\n",
              "      <td>21.00</td>\n",
              "    </tr>\n",
              "    <tr>\n",
              "      <th>523</th>\n",
              "      <td>921.59</td>\n",
              "      <td>2.0</td>\n",
              "      <td>67.24</td>\n",
              "    </tr>\n",
              "    <tr>\n",
              "      <th>747</th>\n",
              "      <td>771.00</td>\n",
              "      <td>1.0</td>\n",
              "      <td>20.50</td>\n",
              "    </tr>\n",
              "    <tr>\n",
              "      <th>555</th>\n",
              "      <td>1184.00</td>\n",
              "      <td>3.0</td>\n",
              "      <td>74.31</td>\n",
              "    </tr>\n",
              "    <tr>\n",
              "      <th>496</th>\n",
              "      <td>948.10</td>\n",
              "      <td>2.0</td>\n",
              "      <td>75.31</td>\n",
              "    </tr>\n",
              "  </tbody>\n",
              "</table>\n",
              "</div>"
            ],
            "text/plain": [
              "        Rent  Rooms  Space\n",
              "740   610.00    1.0  21.00\n",
              "523   921.59    2.0  67.24\n",
              "747   771.00    1.0  20.50\n",
              "555  1184.00    3.0  74.31\n",
              "496   948.10    2.0  75.31"
            ]
          },
          "metadata": {},
          "execution_count": 336
        }
      ]
    },
    {
      "cell_type": "code",
      "metadata": {
        "id": "2ed4gsGSbAmF"
      },
      "source": [
        "#X=df[['Rooms','Space']]\n",
        "X=df['Space'].values.reshape(-1,1)\n",
        "y=df['Rent']"
      ],
      "execution_count": 337,
      "outputs": []
    },
    {
      "cell_type": "code",
      "metadata": {
        "id": "NkI-fJDTbVGA",
        "colab": {
          "base_uri": "https://localhost:8080/",
          "height": 298
        },
        "outputId": "1f3c9733-e7d4-4a38-d68e-db9727170714"
      },
      "source": [
        "plt.scatter(X,y,color='red',label='space')\n",
        "#plt.legend()\n",
        "plt.title('relation between rent and space')\n",
        "#plt.scatter(X,y,color='green',label='rooms')\n",
        "#plt.legend()"
      ],
      "execution_count": 338,
      "outputs": [
        {
          "output_type": "execute_result",
          "data": {
            "text/plain": [
              "Text(0.5, 1.0, 'relation between rent and space')"
            ]
          },
          "metadata": {},
          "execution_count": 338
        },
        {
          "output_type": "display_data",
          "data": {
            "image/png": "[encoded data removed]",
            "text/plain": [
              "<Figure size 432x288 with 1 Axes>"
            ]
          },
          "metadata": {
            "needs_background": "light"
          }
        }
      ]
    },
    {
      "cell_type": "code",
      "metadata": {
        "id": "nTvQhqRJepQh"
      },
      "source": [
        "X_train,X_test,y_train,y_test=train_test_split(X,y,test_size=0.3)"
      ],
      "execution_count": 339,
      "outputs": []
    },
    {
      "cell_type": "code",
      "metadata": {
        "id": "94G42ivEe4cI"
      },
      "source": [
        "model=LinearRegression()"
      ],
      "execution_count": 340,
      "outputs": []
    },
    {
      "cell_type": "code",
      "metadata": {
        "id": "GtnuNIKzfEC8",
        "colab": {
          "base_uri": "https://localhost:8080/"
        },
        "outputId": "4f896e1f-eb39-4254-9fca-f37d7ba5ff50"
      },
      "source": [
        "model.fit(X_train,y_train)"
      ],
      "execution_count": 341,
      "outputs": [
        {
          "output_type": "execute_result",
          "data": {
            "text/plain": [
              "LinearRegression(copy_X=True, fit_intercept=True, n_jobs=None, normalize=False)"
            ]
          },
          "metadata": {},
          "execution_count": 341
        }
      ]
    },
    {
      "cell_type": "code",
      "metadata": {
        "id": "1l-_GyljfLFb"
      },
      "source": [
        "score=model.score(X_test,y_test)"
      ],
      "execution_count": 342,
      "outputs": []
    },
    {
      "cell_type": "code",
      "metadata": {
        "id": "r4cexkM4fTrm",
        "colab": {
          "base_uri": "https://localhost:8080/"
        },
        "outputId": "87c273ef-3f1e-4877-e47d-e8e6d29c4a9e"
      },
      "source": [
        "print('the score of the first model is :',str(score))"
      ],
      "execution_count": 343,
      "outputs": [
        {
          "output_type": "stream",
          "name": "stdout",
          "text": [
            "the score of the first model is : 0.6924467470233603\n"
          ]
        }
      ]
    },
    {
      "cell_type": "code",
      "metadata": {
        "id": "MJGvSTXlLtVB"
      },
      "source": [
        "df2=df[df['Space']<250]"
      ],
      "execution_count": 344,
      "outputs": []
    },
    {
      "cell_type": "code",
      "metadata": {
        "id": "g6_ScSWiL_oZ"
      },
      "source": [
        "X2=df2['Space'].values.reshape(-1,1)\n",
        "y2=df2['Rent']"
      ],
      "execution_count": 345,
      "outputs": []
    },
    {
      "cell_type": "code",
      "metadata": {
        "colab": {
          "base_uri": "https://localhost:8080/",
          "height": 282
        },
        "id": "Qx5HItd7MENb",
        "outputId": "c47bf5d5-3db6-41a9-9c55-43108195b18f"
      },
      "source": [
        "plt.scatter(X2,y2,color='red',label='space')"
      ],
      "execution_count": 346,
      "outputs": [
        {
          "output_type": "execute_result",
          "data": {
            "text/plain": [
              "<matplotlib.collections.PathCollection at 0x7f3adc1c1a90>"
            ]
          },
          "metadata": {},
          "execution_count": 346
        },
        {
          "output_type": "display_data",
          "data": {
            "image/png": "[encoded data removed]",
            "text/plain": [
              "<Figure size 432x288 with 1 Axes>"
            ]
          },
          "metadata": {
            "needs_background": "light"
          }
        }
      ]
    },
    {
      "cell_type": "code",
      "metadata": {
        "id": "7UXtT5KOMJn8"
      },
      "source": [
        "X_train2,X_test2,y_train2,y_test2=train_test_split(X2,y2,test_size=0.3)"
      ],
      "execution_count": 347,
      "outputs": []
    },
    {
      "cell_type": "code",
      "metadata": {
        "id": "Wysuu4IHMRKF"
      },
      "source": [
        "model2=LinearRegression()"
      ],
      "execution_count": 348,
      "outputs": []
    },
    {
      "cell_type": "code",
      "metadata": {
        "colab": {
          "base_uri": "https://localhost:8080/"
        },
        "id": "ARkNyHoVMSD5",
        "outputId": "0c5a17c8-5c74-4743-f626-f7e5d23c73c1"
      },
      "source": [
        "model2.fit(X_train2,y_train2)"
      ],
      "execution_count": 349,
      "outputs": [
        {
          "output_type": "execute_result",
          "data": {
            "text/plain": [
              "LinearRegression(copy_X=True, fit_intercept=True, n_jobs=None, normalize=False)"
            ]
          },
          "metadata": {},
          "execution_count": 349
        }
      ]
    },
    {
      "cell_type": "code",
      "metadata": {
        "id": "yFrwOFfxMUN_"
      },
      "source": [
        "score2=model2.score(X_test2,y_test2)"
      ],
      "execution_count": 350,
      "outputs": []
    },
    {
      "cell_type": "code",
      "metadata": {
        "colab": {
          "base_uri": "https://localhost:8080/"
        },
        "id": "9vMy26A_Mbku",
        "outputId": "eb4f48a9-2598-4f73-a872-f7b79b03bf03"
      },
      "source": [
        "print('the score of the second model is :',str(score2))"
      ],
      "execution_count": 351,
      "outputs": [
        {
          "output_type": "stream",
          "name": "stdout",
          "text": [
            "the score of the second model is : 0.7369766301412115\n"
          ]
        }
      ]
    },
    {
      "cell_type": "code",
      "metadata": {
        "colab": {
          "base_uri": "https://localhost:8080/"
        },
        "id": "zpQAw7akMgvx",
        "outputId": "881fab4c-d9a8-427d-b5ec-121c3b386952"
      },
      "source": [
        "print('the score of the first model is : {}% \\nthe score of the second model is : {}%'.format (str(score)[:4],str(score2)[:4]))"
      ],
      "execution_count": 352,
      "outputs": [
        {
          "output_type": "stream",
          "name": "stdout",
          "text": [
            "the score of the first model is : 0.69% \n",
            "the score of the second model is : 0.73%\n"
          ]
        }
      ]
    },
    {
      "cell_type": "code",
      "metadata": {
        "id": "T37PsHMoNQHt"
      },
      "source": [
        "df3=df2[df2['Rent']<4000]"
      ],
      "execution_count": 353,
      "outputs": []
    },
    {
      "cell_type": "code",
      "metadata": {
        "id": "JUXT6LsgONHi"
      },
      "source": [
        "X3=df3['Space'].values.reshape(-1,1)\n",
        "y3=df3['Rent']"
      ],
      "execution_count": 354,
      "outputs": []
    },
    {
      "cell_type": "code",
      "metadata": {
        "colab": {
          "base_uri": "https://localhost:8080/",
          "height": 282
        },
        "id": "hi-ynxcpOjHn",
        "outputId": "82759b5d-24c1-48df-b855-0db77294e424"
      },
      "source": [
        "plt.scatter(X3,y3,color='red',label='space')"
      ],
      "execution_count": 355,
      "outputs": [
        {
          "output_type": "execute_result",
          "data": {
            "text/plain": [
              "<matplotlib.collections.PathCollection at 0x7f3adc12fc10>"
            ]
          },
          "metadata": {},
          "execution_count": 355
        },
        {
          "output_type": "display_data",
          "data": {
            "image/png": "[encoded data removed]",
            "text/plain": [
              "<Figure size 432x288 with 1 Axes>"
            ]
          },
          "metadata": {
            "needs_background": "light"
          }
        }
      ]
    },
    {
      "cell_type": "code",
      "metadata": {
        "id": "CMF9szYrPALU"
      },
      "source": [
        "X_train3,X_test3,y_train3,y_test3=train_test_split(X3,y3,test_size=0.3)"
      ],
      "execution_count": 356,
      "outputs": []
    },
    {
      "cell_type": "code",
      "metadata": {
        "id": "i1EJ105HPM-j"
      },
      "source": [
        "model3=LinearRegression()"
      ],
      "execution_count": 357,
      "outputs": []
    },
    {
      "cell_type": "code",
      "metadata": {
        "colab": {
          "base_uri": "https://localhost:8080/"
        },
        "id": "V8yI7O2nPPhT",
        "outputId": "6a0323eb-5fe3-4b8e-bef8-2aa73d211d68"
      },
      "source": [
        "model3.fit(X_train3,y_train3)"
      ],
      "execution_count": 358,
      "outputs": [
        {
          "output_type": "execute_result",
          "data": {
            "text/plain": [
              "LinearRegression(copy_X=True, fit_intercept=True, n_jobs=None, normalize=False)"
            ]
          },
          "metadata": {},
          "execution_count": 358
        }
      ]
    },
    {
      "cell_type": "code",
      "metadata": {
        "id": "VE6OM5OePUKe"
      },
      "source": [
        "score3=model3.score(X_test3,y_test3)"
      ],
      "execution_count": 359,
      "outputs": []
    },
    {
      "cell_type": "code",
      "metadata": {
        "colab": {
          "base_uri": "https://localhost:8080/"
        },
        "id": "76NQHfNHPabR",
        "outputId": "be297114-71ba-494a-c618-cc741b6d6df1"
      },
      "source": [
        "print('the score of the third model is :',str(score3))"
      ],
      "execution_count": 360,
      "outputs": [
        {
          "output_type": "stream",
          "name": "stdout",
          "text": [
            "the score of the third model is : 0.7089671224759474\n"
          ]
        }
      ]
    },
    {
      "cell_type": "code",
      "metadata": {
        "colab": {
          "base_uri": "https://localhost:8080/"
        },
        "id": "CnjrL7tKPg-8",
        "outputId": "0331eebd-e5ac-4772-9d6d-32c3bfc4098b"
      },
      "source": [
        "print('the score of the first model is : {}% \\nthe score of the second model is : {}% \\nthe score of the third model is : {}%'.format (str(score)[:4],str(score2)[:4],str(score3)[:4]))"
      ],
      "execution_count": 361,
      "outputs": [
        {
          "output_type": "stream",
          "name": "stdout",
          "text": [
            "the score of the first model is : 0.69% \n",
            "the score of the second model is : 0.73% \n",
            "the score of the third model is : 0.70%\n"
          ]
        }
      ]
    },
    {
      "cell_type": "code",
      "metadata": {
        "id": "a5ZKwT3QOl4M"
      },
      "source": [
        "df4=df3[df3['Space']<180]"
      ],
      "execution_count": 362,
      "outputs": []
    },
    {
      "cell_type": "code",
      "metadata": {
        "id": "jGWI95duO1Ur"
      },
      "source": [
        "X4=df4['Space'].values.reshape(-1,1)\n",
        "y4=df4['Rent']"
      ],
      "execution_count": 363,
      "outputs": []
    },
    {
      "cell_type": "code",
      "metadata": {
        "colab": {
          "base_uri": "https://localhost:8080/",
          "height": 282
        },
        "id": "0bJbewYKO5OQ",
        "outputId": "aa681a56-04f6-4b30-8d96-483a049aada9"
      },
      "source": [
        "plt.scatter(X4,y4,color='red',label='space')"
      ],
      "execution_count": 364,
      "outputs": [
        {
          "output_type": "execute_result",
          "data": {
            "text/plain": [
              "<matplotlib.collections.PathCollection at 0x7f3adc09dd50>"
            ]
          },
          "metadata": {},
          "execution_count": 364
        },
        {
          "output_type": "display_data",
          "data": {
            "image/png": "[encoded data removed]",
            "text/plain": [
              "<Figure size 432x288 with 1 Axes>"
            ]
          },
          "metadata": {
            "needs_background": "light"
          }
        }
      ]
    },
    {
      "cell_type": "code",
      "metadata": {
        "id": "ekWzEU_hO7Ti"
      },
      "source": [
        "X_train4,X_test4,y_train4,y_test4=train_test_split(X4,y4,test_size=0.3)"
      ],
      "execution_count": 365,
      "outputs": []
    },
    {
      "cell_type": "code",
      "metadata": {
        "id": "faJSrYh0P6L9"
      },
      "source": [
        "model4=LinearRegression()"
      ],
      "execution_count": 366,
      "outputs": []
    },
    {
      "cell_type": "code",
      "metadata": {
        "colab": {
          "base_uri": "https://localhost:8080/"
        },
        "id": "NNg1eg2OP80q",
        "outputId": "06386c5b-9a2b-4b21-bcf7-bc38a5553fdf"
      },
      "source": [
        "model4.fit(X_train4,y_train4)"
      ],
      "execution_count": 367,
      "outputs": [
        {
          "output_type": "execute_result",
          "data": {
            "text/plain": [
              "LinearRegression(copy_X=True, fit_intercept=True, n_jobs=None, normalize=False)"
            ]
          },
          "metadata": {},
          "execution_count": 367
        }
      ]
    },
    {
      "cell_type": "code",
      "metadata": {
        "id": "vOpJ5tHHQCHM"
      },
      "source": [
        "score4=model4.score(X_test4,y_test4)"
      ],
      "execution_count": 368,
      "outputs": []
    },
    {
      "cell_type": "code",
      "metadata": {
        "colab": {
          "base_uri": "https://localhost:8080/"
        },
        "id": "nMFJKN4EQGQm",
        "outputId": "839832fd-a67d-4fbc-c1c7-58f62852fe18"
      },
      "source": [
        "print('the score of the fourth model is :',str(score4))"
      ],
      "execution_count": 369,
      "outputs": [
        {
          "output_type": "stream",
          "name": "stdout",
          "text": [
            "the score of the fourth model is : 0.6938589334124263\n"
          ]
        }
      ]
    },
    {
      "cell_type": "code",
      "metadata": {
        "colab": {
          "base_uri": "https://localhost:8080/"
        },
        "id": "1Iax3q9oQJzj",
        "outputId": "da71905c-6aaa-4410-84a3-39d9a4c4ed29"
      },
      "source": [
        "print('the score of the first model is : {}% \\nthe score of the second model is : {}% \\nthe score of the third model is : {}% \\nthe score of the fourth model is : {}%'.format (str(score)[:4],str(score2)[:4],str(score3)[:4],str(score4)[:4]))"
      ],
      "execution_count": 370,
      "outputs": [
        {
          "output_type": "stream",
          "name": "stdout",
          "text": [
            "the score of the first model is : 0.69% \n",
            "the score of the second model is : 0.73% \n",
            "the score of the third model is : 0.70% \n",
            "the score of the fourth model is : 0.69%\n"
          ]
        }
      ]
    },
    {
      "cell_type": "code",
      "metadata": {
        "colab": {
          "base_uri": "https://localhost:8080/"
        },
        "id": "j2E_5-nZQWxt",
        "outputId": "609b92f2-dc5b-47c8-974a-aed6e2039212"
      },
      "source": [
        "print(model.score(X_test,y_test))\n",
        "print(model.score(X_test2,y_test2))\n",
        "print(model.score(X_test3,y_test3))\n",
        "print(model.score(X_test4,y_test4))"
      ],
      "execution_count": 374,
      "outputs": [
        {
          "output_type": "stream",
          "name": "stdout",
          "text": [
            "0.6924467470233603\n",
            "0.7131128047394173\n",
            "0.6455277059740738\n",
            "0.644303454068261\n"
          ]
        }
      ]
    },
    {
      "cell_type": "code",
      "metadata": {
        "colab": {
          "base_uri": "https://localhost:8080/"
        },
        "id": "0lztft8wQ2rw",
        "outputId": "83b21113-eeaa-487b-e6b6-e6040bb9fbcd"
      },
      "source": [
        "print(model2.score(X_test,y_test))\n",
        "print(model2.score(X_test2,y_test2))\n",
        "print(model2.score(X_test3,y_test3))\n",
        "print(model2.score(X_test4,y_test4))"
      ],
      "execution_count": 375,
      "outputs": [
        {
          "output_type": "stream",
          "name": "stdout",
          "text": [
            "0.7236746944770072\n",
            "0.7369766301412115\n",
            "0.6948421135987329\n",
            "0.6903885996500514\n"
          ]
        }
      ]
    },
    {
      "cell_type": "code",
      "metadata": {
        "colab": {
          "base_uri": "https://localhost:8080/"
        },
        "id": "nbwc5PkBRZpw",
        "outputId": "3162b0a8-004d-4acf-f4c3-e2dd4095bfa1"
      },
      "source": [
        "print(model3.score(X_test,y_test))\n",
        "print(model3.score(X_test2,y_test2))\n",
        "print(model3.score(X_test3,y_test3))\n",
        "print(model3.score(X_test4,y_test4))"
      ],
      "execution_count": 376,
      "outputs": [
        {
          "output_type": "stream",
          "name": "stdout",
          "text": [
            "0.7133476309100301\n",
            "0.726128331197296\n",
            "0.7089671224759474\n",
            "0.6960828093887705\n"
          ]
        }
      ]
    },
    {
      "cell_type": "code",
      "metadata": {
        "colab": {
          "base_uri": "https://localhost:8080/"
        },
        "id": "-XYkP8XvRcf6",
        "outputId": "181c814a-761a-42f6-9e65-b17162002827"
      },
      "source": [
        "print(model4.score(X_test,y_test))\n",
        "print(model4.score(X_test2,y_test2))\n",
        "print(model4.score(X_test3,y_test3))\n",
        "print(model4.score(X_test4,y_test4))"
      ],
      "execution_count": 377,
      "outputs": [
        {
          "output_type": "stream",
          "name": "stdout",
          "text": [
            "0.7106453299265043\n",
            "0.7240185108597907\n",
            "0.7085892995483879\n",
            "0.6938589334124263\n"
          ]
        }
      ]
    },
    {
      "cell_type": "code",
      "metadata": {
        "id": "BZlkT7ZPRd0T"
      },
      "source": [
        ""
      ],
      "execution_count": null,
      "outputs": []
    }
  ]
}